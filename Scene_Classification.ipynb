{
  "nbformat": 4,
  "nbformat_minor": 0,
  "metadata": {
    "colab": {
      "name": "Scene_Classification.ipynb",
      "version": "0.3.2",
      "provenance": [],
      "collapsed_sections": [],
      "include_colab_link": true
    },
    "kernelspec": {
      "name": "python3",
      "display_name": "Python 3"
    },
    "accelerator": "GPU"
  },
  "cells": [
    {
      "cell_type": "markdown",
      "metadata": {
        "id": "view-in-github",
        "colab_type": "text"
      },
      "source": [
        "<a href=\"https://colab.research.google.com/github/ujjawalcse/My-ML-Project/blob/master/Scene_Classification.ipynb\" target=\"_parent\"><img src=\"https://colab.research.google.com/assets/colab-badge.svg\" alt=\"Open In Colab\"/></a>"
      ]
    },
    {
      "metadata": {
        "id": "23UXrgcnjhZz",
        "colab_type": "code",
        "outputId": "211ec3a8-b243-4967-ff90-d2c5a1b93626",
        "colab": {
          "base_uri": "https://localhost:8080/",
          "height": 101
        }
      },
      "cell_type": "code",
      "source": [
        "!git clone https://github.com/thatbrguy/Dropbox-Uploader.git"
      ],
      "execution_count": 0,
      "outputs": [
        {
          "output_type": "stream",
          "text": [
            "Cloning into 'Dropbox-Uploader'...\n",
            "remote: Enumerating objects: 951, done.\u001b[K\n",
            "remote: Total 951 (delta 0), reused 0 (delta 0), pack-reused 951\u001b[K\n",
            "Receiving objects: 100% (951/951), 309.20 KiB | 568.00 KiB/s, done.\n",
            "Resolving deltas: 100% (505/505), done.\n"
          ],
          "name": "stdout"
        }
      ]
    },
    {
      "metadata": {
        "id": "QSNvFkidmfVm",
        "colab_type": "code",
        "outputId": "f5c58ac2-79ea-4f60-d2b0-09da525aebc0",
        "colab": {
          "base_uri": "https://localhost:8080/",
          "height": 34
        }
      },
      "cell_type": "code",
      "source": [
        "cd Dropbox-Uploader"
      ],
      "execution_count": 0,
      "outputs": [
        {
          "output_type": "stream",
          "text": [
            "/content/Dropbox-Uploader\n"
          ],
          "name": "stdout"
        }
      ]
    },
    {
      "metadata": {
        "id": "14F7232cmlze",
        "colab_type": "code",
        "colab": {}
      },
      "cell_type": "code",
      "source": [
        "!chmod +x dropbox_uploader.sh"
      ],
      "execution_count": 0,
      "outputs": []
    },
    {
      "metadata": {
        "id": "gOmjqI2JmqBA",
        "colab_type": "code",
        "outputId": "d9e94ac4-abda-4cfb-ee00-388426abc4af",
        "colab": {
          "base_uri": "https://localhost:8080/",
          "height": 269
        }
      },
      "cell_type": "code",
      "source": [
        "!bash dropbox_uploader.sh"
      ],
      "execution_count": 0,
      "outputs": [
        {
          "output_type": "stream",
          "text": [
            "\n",
            " This is the first time you run this script, please follow the instructions:\n",
            "\n",
            " 1) Open the following URL in your Browser, and log in using your account: https://www.dropbox.com/developers/apps\n",
            " 2) Click on \"Create App\", then select \"Dropbox API app\"\n",
            " 3) Now go on with the configuration, choosing the app permissions and access restrictions to your DropBox folder\n",
            " 4) Enter the \"App Name\" that you prefer (e.g. MyUploader57702324324789)\n",
            "\n",
            " Now, click on the \"Create App\" button.\n",
            "\n",
            " When your new App is successfully created, please click on the Generate button\n",
            " under the 'Generated access token' section, then execute the following command:\n",
            "\n",
            " echo \"INPUT_YOUR_ACCESS_TOKEN_HERE\" > token.txt\n",
            "\n"
          ],
          "name": "stdout"
        }
      ]
    },
    {
      "metadata": {
        "id": "XVnz7QdemwJq",
        "colab_type": "code",
        "colab": {}
      },
      "cell_type": "code",
      "source": [
        "!echo \"I8vRHfC8loAAAAAAAAAAG6nT7qazIqPxTOww3BMRZh9ZeP5PEoen9NQTzvovoQWV\" > token.txt"
      ],
      "execution_count": 0,
      "outputs": []
    },
    {
      "metadata": {
        "id": "C64vKra9nb2r",
        "colab_type": "code",
        "outputId": "0e0f8891-e209-4bfd-cc50-163da7108fc3",
        "colab": {
          "base_uri": "https://localhost:8080/",
          "height": 386
        }
      },
      "cell_type": "code",
      "source": [
        "!bash dropbox_uploader.sh"
      ],
      "execution_count": 0,
      "outputs": [
        {
          "output_type": "stream",
          "text": [
            "\n",
            " This is the first time you run this script, please follow the instructions:\n",
            "\n",
            " 1) Open the following URL in your Browser, and log in using your account: https://www.dropbox.com/developers/apps\n",
            " 2) Click on \"Create App\", then select \"Dropbox API app\"\n",
            " 3) Now go on with the configuration, choosing the app permissions and access restrictions to your DropBox folder\n",
            " 4) Enter the \"App Name\" that you prefer (e.g. MyUploader84717972197)\n",
            "\n",
            " Now, click on the \"Create App\" button.\n",
            "\n",
            " When your new App is successfully created, please click on the Generate button\n",
            " under the 'Generated access token' section, then execute the following command:\n",
            "\n",
            " echo \"INPUT_YOUR_ACCESS_TOKEN_HERE\" > token.txt\n",
            "\n",
            "\n",
            " Found token.txt with access token: I8vRHfC8loAAAAAAAAAAG6nT7qazIqPxTOww3BMRZh9ZeP5PEoen9NQTzvovoQWV\n",
            "\n",
            " You can unlink this account if the token is wrong, using:\n",
            " ./dropbox-uploader.sh unlink\n",
            "\n",
            " The configuration has been saved.\n"
          ],
          "name": "stdout"
        }
      ]
    },
    {
      "metadata": {
        "id": "kKpzJE7Rn13n",
        "colab_type": "code",
        "outputId": "121ebae3-53b8-4369-ccf1-6269bea38cce",
        "colab": {
          "base_uri": "https://localhost:8080/",
          "height": 34
        }
      },
      "cell_type": "code",
      "source": [
        "!bash dropbox_uploader.sh download scene_images.zip"
      ],
      "execution_count": 0,
      "outputs": [
        {
          "output_type": "stream",
          "text": [
            " > Downloading \"/scene_images.zip\" to \"/content/Dropbox-Uploader/scene_images.zip\"... DONE\n"
          ],
          "name": "stdout"
        }
      ]
    },
    {
      "metadata": {
        "id": "6b1joBqXoG4a",
        "colab_type": "code",
        "outputId": "de5c4060-b9c7-4b16-a4a8-943c5771fc63",
        "colab": {
          "base_uri": "https://localhost:8080/",
          "height": 34
        }
      },
      "cell_type": "code",
      "source": [
        "from zipfile import ZipFile\n",
        "file_name='scene_images.zip'\n",
        "with ZipFile(file_name,'r') as zip:\n",
        "  zip.extractall()\n",
        "  print(\"Done\")"
      ],
      "execution_count": 0,
      "outputs": [
        {
          "output_type": "stream",
          "text": [
            "Done\n"
          ],
          "name": "stdout"
        }
      ]
    },
    {
      "metadata": {
        "id": "GLpms53tonSc",
        "colab_type": "code",
        "outputId": "641b683b-1bdd-437f-d9e9-dbbfe8014f65",
        "colab": {
          "base_uri": "https://localhost:8080/",
          "height": 34
        }
      },
      "cell_type": "code",
      "source": [
        "import numpy as np\n",
        "import pandas as pd\n",
        "import matplotlib.pyplot as plt\n",
        "from keras.models import Sequential\n",
        "from keras.layers.normalization import BatchNormalization\n",
        "from keras.layers.convolutional import Conv2D\n",
        "from keras.layers.core import Activation\n",
        "from keras.layers.core import Flatten\n",
        "from keras.layers.core import Dropout\n",
        "from keras.layers.core import Dense\n",
        "from sklearn.preprocessing import LabelBinarizer\n",
        "from sklearn.model_selection import train_test_split\n",
        "from sklearn.metrics import accuracy_score\n",
        "from keras.preprocessing.image import ImageDataGenerator\n",
        "from keras.optimizers import Adam\n",
        "from keras.regularizers import l2\n",
        "from imutils import paths\n",
        "from tqdm import tqdm\n",
        "import cv2\n",
        "import os"
      ],
      "execution_count": 0,
      "outputs": [
        {
          "output_type": "stream",
          "text": [
            "Using TensorFlow backend.\n"
          ],
          "name": "stderr"
        }
      ]
    },
    {
      "metadata": {
        "id": "nzUzXdS4pXKy",
        "colab_type": "code",
        "outputId": "815caf6a-16be-4e4c-c31b-55832d633ea3",
        "colab": {
          "base_uri": "https://localhost:8080/",
          "height": 235
        }
      },
      "cell_type": "code",
      "source": [
        "train_info=pd.read_csv('scene_images/train.csv')\n",
        "test_info=pd.read_csv('scene_images/test.csv')\n",
        "print(train_info.head())\n",
        "print(test_info.head())\n",
        "print(\"Number of labels:\",train_info['label'].nunique())"
      ],
      "execution_count": 0,
      "outputs": [
        {
          "output_type": "stream",
          "text": [
            "  image_name  label\n",
            "0      0.jpg      0\n",
            "1      1.jpg      4\n",
            "2      2.jpg      5\n",
            "3      4.jpg      0\n",
            "4      7.jpg      4\n",
            "  image_name\n",
            "0      3.jpg\n",
            "1      5.jpg\n",
            "2      6.jpg\n",
            "3     11.jpg\n",
            "4     14.jpg\n",
            "Number of labels: 6\n"
          ],
          "name": "stdout"
        }
      ]
    },
    {
      "metadata": {
        "id": "k6WNqaoBqZrb",
        "colab_type": "code",
        "outputId": "50391b2d-9154-4e7f-e9fc-2778c205539f",
        "colab": {
          "base_uri": "https://localhost:8080/",
          "height": 50
        }
      },
      "cell_type": "code",
      "source": [
        "target=pd.Series(train_info['label'])\n",
        "encoded=pd.get_dummies(target,sparse=True)\n",
        "encoded_labels=np.asarray(encoded)\n",
        "\n",
        "img_rows=224\n",
        "img_cols=224\n",
        "no_channels=3\n",
        "feature_x=[]\n",
        "feature_y=[]\n",
        "i=0\n",
        "for f in tqdm(train_info['image_name'].values): # f for format ,jpg\n",
        "    train_img = cv2.imread('scene_images/image_data/{}'.format(f),0)\n",
        "    labels = encoded_labels[i]\n",
        "    resized_imgs = cv2.resize(train_img, (img_rows, img_cols)) \n",
        "    feature_x.append(resized_imgs)\n",
        "    feature_y.append(labels)\n",
        "    i += 1\n",
        "feature_x=np.expand_dims(feature_x,axis=3)\n",
        "\n",
        "\n",
        "test_feature=[]\n",
        "for f in tqdm(test_info['image_name'].values):\n",
        "    test_img=cv2.imread('scene_images/image_data/{}'.format(f),0)\n",
        "    resized_imgs=cv2.resize(test_img,(img_rows,img_cols))\n",
        "    test_feature.append(resized_imgs)\n",
        "\n",
        "test_data=np.expand_dims(test_feature,axis=3)"
      ],
      "execution_count": 0,
      "outputs": [
        {
          "output_type": "stream",
          "text": [
            "100%|██████████| 17034/17034 [00:09<00:00, 1876.48it/s]\n",
            "100%|██████████| 7301/7301 [00:03<00:00, 1909.89it/s]\n"
          ],
          "name": "stderr"
        }
      ]
    },
    {
      "metadata": {
        "id": "BSbGw4rLsSEs",
        "colab_type": "code",
        "outputId": "dd9031b9-42ed-4f9a-dc37-39aa0fd4fa99",
        "colab": {
          "base_uri": "https://localhost:8080/",
          "height": 137
        }
      },
      "cell_type": "code",
      "source": [
        "from keras.layers import MaxPooling2D\n",
        "from keras.layers.advanced_activations import LeakyReLU\n",
        "model1 = Sequential()\n",
        "model1.add(Conv2D(32, kernel_size=(3, 3),activation='linear',padding='same',input_shape=(128,128,1)))\n",
        "model1.add(LeakyReLU(alpha=0.1))\n",
        "model1.add(MaxPooling2D((2, 2),padding='same'))\n",
        "model1.add(Dropout(0.25))\n",
        "model1.add(Conv2D(64, (3, 3), activation='linear',padding='same'))\n",
        "model1.add(LeakyReLU(alpha=0.1))\n",
        "model1.add(MaxPooling2D(pool_size=(2, 2),padding='same'))\n",
        "model1.add(Dropout(0.25))\n",
        "model1.add(Conv2D(128, (3, 3), activation='linear',padding='same'))\n",
        "model1.add(LeakyReLU(alpha=0.1))                  \n",
        "model1.add(MaxPooling2D(pool_size=(2, 2),padding='same'))\n",
        "model1.add(Dropout(0.25))\n",
        "model1.add(Flatten())\n",
        "model1.add(Dense(128, activation='linear'))\n",
        "model1.add(LeakyReLU(alpha=0.1))           \n",
        "model1.add(Dropout(0.25))\n",
        "model1.add(Dense(6, activation='softmax'))"
      ],
      "execution_count": 0,
      "outputs": [
        {
          "output_type": "stream",
          "text": [
            "WARNING:tensorflow:From /usr/local/lib/python3.6/dist-packages/tensorflow/python/framework/op_def_library.py:263: colocate_with (from tensorflow.python.framework.ops) is deprecated and will be removed in a future version.\n",
            "Instructions for updating:\n",
            "Colocations handled automatically by placer.\n",
            "WARNING:tensorflow:From /usr/local/lib/python3.6/dist-packages/keras/backend/tensorflow_backend.py:3445: calling dropout (from tensorflow.python.ops.nn_ops) with keep_prob is deprecated and will be removed in a future version.\n",
            "Instructions for updating:\n",
            "Please use `rate` instead of `keep_prob`. Rate should be set to `rate = 1 - keep_prob`.\n"
          ],
          "name": "stdout"
        }
      ]
    },
    {
      "metadata": {
        "id": "1zbo9iMAssiH",
        "colab_type": "code",
        "colab": {}
      },
      "cell_type": "code",
      "source": [
        "model1.compile(loss='categorical_crossentropy', optimizer=Adam(),metrics=['accuracy'])"
      ],
      "execution_count": 0,
      "outputs": []
    },
    {
      "metadata": {
        "id": "_YNVnisusySC",
        "colab_type": "code",
        "outputId": "5c8917df-56a4-49c1-f851-2f3b59c668fd",
        "colab": {
          "base_uri": "https://localhost:8080/",
          "height": 1375
        }
      },
      "cell_type": "code",
      "source": [
        "from keras.callbacks import EarlyStopping\n",
        "train_datagen=ImageDataGenerator( featurewise_center=True,featurewise_std_normalization=True,rotation_range=30, width_shift_range=0.2, height_shift_range=0.2,shear_range=0.2,zoom_range=0.2,horizontal_flip=True,fill_mode='nearest')\n",
        "\n",
        "train_datagen.fit(feature_x)\n",
        "model1.fit_generator(train_datagen.flow(feature_x,feature_y, batch_size=32),steps_per_epoch=len(feature_x) / 32, epochs=100,callbacks=[EarlyStopping(monitor='acc',patience=4)])"
      ],
      "execution_count": 0,
      "outputs": [
        {
          "output_type": "stream",
          "text": [
            "WARNING:tensorflow:From /usr/local/lib/python3.6/dist-packages/tensorflow/python/ops/math_ops.py:3066: to_int32 (from tensorflow.python.ops.math_ops) is deprecated and will be removed in a future version.\n",
            "Instructions for updating:\n",
            "Use tf.cast instead.\n",
            "Epoch 1/100\n",
            "533/532 [==============================] - 43s 81ms/step - loss: 1.1634 - acc: 0.5396\n",
            "Epoch 2/100\n",
            "533/532 [==============================] - 39s 72ms/step - loss: 0.9160 - acc: 0.6480\n",
            "Epoch 3/100\n",
            "533/532 [==============================] - 39s 73ms/step - loss: 0.8283 - acc: 0.6911\n",
            "Epoch 4/100\n",
            "533/532 [==============================] - 39s 72ms/step - loss: 0.7708 - acc: 0.7124\n",
            "Epoch 5/100\n",
            "533/532 [==============================] - 39s 72ms/step - loss: 0.7547 - acc: 0.7221\n",
            "Epoch 6/100\n",
            "533/532 [==============================] - 39s 72ms/step - loss: 0.7148 - acc: 0.7346\n",
            "Epoch 7/100\n",
            "533/532 [==============================] - 39s 72ms/step - loss: 0.6958 - acc: 0.7407\n",
            "Epoch 8/100\n",
            "533/532 [==============================] - 38s 72ms/step - loss: 0.6857 - acc: 0.7420\n",
            "Epoch 9/100\n",
            "533/532 [==============================] - 39s 72ms/step - loss: 0.6584 - acc: 0.7601\n",
            "Epoch 10/100\n",
            "533/532 [==============================] - 39s 72ms/step - loss: 0.6517 - acc: 0.7591\n",
            "Epoch 11/100\n",
            "533/532 [==============================] - 39s 72ms/step - loss: 0.6314 - acc: 0.7654\n",
            "Epoch 12/100\n",
            "533/532 [==============================] - 39s 72ms/step - loss: 0.6474 - acc: 0.7616\n",
            "Epoch 13/100\n",
            "533/532 [==============================] - 39s 72ms/step - loss: 0.6216 - acc: 0.7711\n",
            "Epoch 14/100\n",
            "533/532 [==============================] - 39s 72ms/step - loss: 0.6169 - acc: 0.7725\n",
            "Epoch 15/100\n",
            "533/532 [==============================] - 38s 72ms/step - loss: 0.6186 - acc: 0.7700\n",
            "Epoch 16/100\n",
            "533/532 [==============================] - 39s 72ms/step - loss: 0.6116 - acc: 0.7782\n",
            "Epoch 17/100\n",
            "533/532 [==============================] - 38s 72ms/step - loss: 0.6007 - acc: 0.7781\n",
            "Epoch 18/100\n",
            "533/532 [==============================] - 39s 73ms/step - loss: 0.5943 - acc: 0.7801\n",
            "Epoch 19/100\n",
            "533/532 [==============================] - 39s 73ms/step - loss: 0.5972 - acc: 0.7807\n",
            "Epoch 20/100\n",
            "533/532 [==============================] - 38s 72ms/step - loss: 0.5849 - acc: 0.7849\n",
            "Epoch 21/100\n",
            "533/532 [==============================] - 38s 72ms/step - loss: 0.5790 - acc: 0.7873\n",
            "Epoch 22/100\n",
            "533/532 [==============================] - 39s 72ms/step - loss: 0.5778 - acc: 0.7874\n",
            "Epoch 23/100\n",
            "533/532 [==============================] - 39s 72ms/step - loss: 0.5768 - acc: 0.7858\n",
            "Epoch 24/100\n",
            "533/532 [==============================] - 38s 72ms/step - loss: 0.5686 - acc: 0.7918\n",
            "Epoch 25/100\n",
            "533/532 [==============================] - 38s 72ms/step - loss: 0.5620 - acc: 0.7907\n",
            "Epoch 26/100\n",
            "533/532 [==============================] - 39s 73ms/step - loss: 0.5655 - acc: 0.7933\n",
            "Epoch 27/100\n",
            "533/532 [==============================] - 39s 73ms/step - loss: 0.5671 - acc: 0.7921\n",
            "Epoch 28/100\n",
            "533/532 [==============================] - 38s 72ms/step - loss: 0.5528 - acc: 0.7957\n",
            "Epoch 29/100\n",
            "533/532 [==============================] - 39s 72ms/step - loss: 0.5476 - acc: 0.7989\n",
            "Epoch 30/100\n",
            "533/532 [==============================] - 38s 72ms/step - loss: 0.5506 - acc: 0.7956\n",
            "Epoch 31/100\n",
            "533/532 [==============================] - 38s 72ms/step - loss: 0.5488 - acc: 0.8003\n",
            "Epoch 32/100\n",
            "533/532 [==============================] - 38s 72ms/step - loss: 0.5461 - acc: 0.7992\n",
            "Epoch 33/100\n",
            "533/532 [==============================] - 38s 71ms/step - loss: 0.5421 - acc: 0.8000\n",
            "Epoch 34/100\n",
            "533/532 [==============================] - 38s 71ms/step - loss: 0.5369 - acc: 0.8025\n",
            "Epoch 35/100\n",
            "533/532 [==============================] - 38s 72ms/step - loss: 0.5414 - acc: 0.7967\n",
            "Epoch 36/100\n",
            "533/532 [==============================] - 38s 72ms/step - loss: 0.5434 - acc: 0.7974\n",
            "Epoch 37/100\n",
            "533/532 [==============================] - 39s 72ms/step - loss: 0.5388 - acc: 0.8017\n",
            "Epoch 38/100\n",
            "533/532 [==============================] - 39s 72ms/step - loss: 0.5467 - acc: 0.8002\n"
          ],
          "name": "stdout"
        },
        {
          "output_type": "execute_result",
          "data": {
            "text/plain": [
              "<keras.callbacks.History at 0x7fcd5065d780>"
            ]
          },
          "metadata": {
            "tags": []
          },
          "execution_count": 15
        }
      ]
    },
    {
      "metadata": {
        "id": "_vN9rqiKtcZR",
        "colab_type": "code",
        "colab": {}
      },
      "cell_type": "code",
      "source": [
        ""
      ],
      "execution_count": 0,
      "outputs": []
    },
    {
      "metadata": {
        "id": "ZjikiI7jcQmS",
        "colab_type": "code",
        "colab": {}
      },
      "cell_type": "code",
      "source": [
        ""
      ],
      "execution_count": 0,
      "outputs": []
    },
    {
      "metadata": {
        "id": "hov-VbsWq8Sy",
        "colab_type": "code",
        "colab": {}
      },
      "cell_type": "code",
      "source": [
        ""
      ],
      "execution_count": 0,
      "outputs": []
    }
  ]
}