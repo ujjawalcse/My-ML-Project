{
 "cells": [
  {
   "cell_type": "code",
   "execution_count": 4,
   "metadata": {},
   "outputs": [],
   "source": [
    "import os\n",
    "import numpy as np\n",
    "import pandas as pd\n",
    "import cv2\n",
    "from tqdm import tqdm\n",
    "import matplotlib.pyplot as plt \n",
    "import sklearn\n",
    "from sklearn.cross_validation import train_test_split\n"
   ]
  },
  {
   "cell_type": "code",
   "execution_count": 5,
   "metadata": {},
   "outputs": [
    {
     "name": "stdout",
     "output_type": "stream",
     "text": [
      "                                 id             breed\n",
      "0  000bec180eb18c7604dcecc8fe0dba07       boston_bull\n",
      "1  001513dfcb2ffafc82cccf4d8bbaba97             dingo\n",
      "2  001cdf01b096e06d78e9e5112d419397          pekinese\n",
      "3  00214f311d5d2247d5dfe4fe24b2303d          bluetick\n",
      "4  0021f9ceb3235effd7fcde7f7538ed62  golden_retriever\n",
      "scottish_deerhound      126\n",
      "maltese_dog             117\n",
      "afghan_hound            116\n",
      "entlebucher             115\n",
      "bernese_mountain_dog    114\n",
      "shih-tzu                112\n",
      "great_pyrenees          111\n",
      "pomeranian              111\n",
      "basenji                 110\n",
      "samoyed                 109\n",
      "Name: breed, dtype: int64\n",
      "(120,)\n",
      "[['000bec180eb18c7604dcecc8fe0dba07' 'boston_bull']\n",
      " ['001513dfcb2ffafc82cccf4d8bbaba97' 'dingo']\n",
      " ['001cdf01b096e06d78e9e5112d419397' 'pekinese']\n",
      " ...\n",
      " ['ffe2ca6c940cddfee68fa3cc6c63213f' 'airedale']\n",
      " ['ffe5f6d8e2bff356e9482a80a6e29aac' 'miniature_pinscher']\n",
      " ['fff43b07992508bc822f33d8ffd902ae' 'chesapeake_bay_retriever']]\n"
     ]
    }
   ],
   "source": [
    "lables = pd.read_csv('C:\\\\Users\\\\Ujjawal\\\\Anaconda3\\\\input_files\\\\dog-breed-dataset\\\\file1\\\\labels.csv')\n",
    "breed_count=lables['breed'].value_counts()\n",
    "print(lables.head())\n",
    "print(breed_count.head(10))\n",
    "print(breed_count.shape)\n",
    "print(lables.values)"
   ]
  },
  {
   "cell_type": "code",
   "execution_count": 8,
   "metadata": {},
   "outputs": [
    {
     "name": "stdout",
     "output_type": "stream",
     "text": [
      "   affenpinscher  afghan_hound  african_hunting_dog  airedale  \\\n",
      "0              0             0                    0         0   \n",
      "1              0             0                    0         0   \n",
      "2              0             0                    0         0   \n",
      "3              0             0                    0         0   \n",
      "4              0             0                    0         0   \n",
      "\n",
      "   american_staffordshire_terrier  appenzeller  australian_terrier  basenji  \\\n",
      "0                               0            0                   0        0   \n",
      "1                               0            0                   0        0   \n",
      "2                               0            0                   0        0   \n",
      "3                               0            0                   0        0   \n",
      "4                               0            0                   0        0   \n",
      "\n",
      "   basset  beagle        ...          toy_poodle  toy_terrier  vizsla  \\\n",
      "0       0       0        ...                   0            0       0   \n",
      "1       0       0        ...                   0            0       0   \n",
      "2       0       0        ...                   0            0       0   \n",
      "3       0       0        ...                   0            0       0   \n",
      "4       0       0        ...                   0            0       0   \n",
      "\n",
      "   walker_hound  weimaraner  welsh_springer_spaniel  \\\n",
      "0             0           0                       0   \n",
      "1             0           0                       0   \n",
      "2             0           0                       0   \n",
      "3             0           0                       0   \n",
      "4             0           0                       0   \n",
      "\n",
      "   west_highland_white_terrier  whippet  wire-haired_fox_terrier  \\\n",
      "0                            0        0                        0   \n",
      "1                            0        0                        0   \n",
      "2                            0        0                        0   \n",
      "3                            0        0                        0   \n",
      "4                            0        0                        0   \n",
      "\n",
      "   yorkshire_terrier  \n",
      "0                  0  \n",
      "1                  0  \n",
      "2                  0  \n",
      "3                  0  \n",
      "4                  0  \n",
      "\n",
      "[5 rows x 120 columns]\n",
      "[[0 0 0 ... 0 0 0]\n",
      " [0 0 0 ... 0 0 0]\n",
      " [0 0 0 ... 0 0 0]\n",
      " ...\n",
      " [0 0 0 ... 0 0 0]\n",
      " [0 0 0 ... 0 0 0]\n",
      " [0 0 0 ... 0 0 0]]\n"
     ]
    }
   ],
   "source": [
    "#One hot Encoding\n",
    "targets = pd.Series(lables['breed'])\n",
    "encoded = pd.get_dummies(targets, sparse = True)\n",
    "encoded_labels = np.asarray(encoded)\n",
    "print(encoded.head())\n",
    "print(encoded_labels)"
   ]
  },
  {
   "cell_type": "code",
   "execution_count": 9,
   "metadata": {},
   "outputs": [
    {
     "name": "stderr",
     "output_type": "stream",
     "text": [
      "100%|████████████████████████████████████████████████████████████████████████████| 10222/10222 [02:03<00:00, 82.66it/s]\n"
     ]
    }
   ],
   "source": [
    "img_rows=128\n",
    "img_cols=128\n",
    "no_channels=1\n",
    "\n",
    "feature_x=[]\n",
    "feature_y=[]\n",
    "i=0\n",
    "for f, img in tqdm(lables.values): # f for format ,jpg\n",
    "    train_img = cv2.imread('C:\\\\Users\\\\Ujjawal\\\\Anaconda3\\\\input_files\\\\dog-breed-dataset//train//{}.jpg'.format(f),0)\n",
    "    label = encoded_labels[i]\n",
    "    resized_imgs = cv2.resize(train_img, (img_rows, img_cols)) \n",
    "    feature_x.append(resized_imgs)\n",
    "    feature_y.append(label)\n",
    "    i += 1"
   ]
  },
  {
   "cell_type": "code",
   "execution_count": 10,
   "metadata": {},
   "outputs": [
    {
     "name": "stdout",
     "output_type": "stream",
     "text": [
      "(10222, 128, 128)\n",
      "(10222, 128, 128, 1)\n",
      "(10222, 120)\n",
      "(8177, 128, 128, 1)\n",
      "(2045, 128, 128, 1)\n"
     ]
    }
   ],
   "source": [
    "x_train_data = np.array(feature_x, np.float32)/255   # /= 255 for normalisation\n",
    "print(x_train_data.shape)     #just for checking purpose\n",
    "x_train_data = np.expand_dims(x_train_data, axis = 3)\n",
    "print (x_train_data.shape)     #just for checking purpose\n",
    "\n",
    "y_train_data = np.array(feature_y, np.uint8)\n",
    "print (y_train_data.shape)    #just for checking purpose\n",
    "\n",
    "x_train, x_val, y_train, y_val = train_test_split(x_train_data, y_train_data, test_size=0.2, random_state=2)\n",
    "print (x_train.shape)      #just for checking purpose\n",
    "print (x_val.shape)        #just for checking purpose"
   ]
  },
  {
   "cell_type": "code",
   "execution_count": 11,
   "metadata": {},
   "outputs": [
    {
     "name": "stdout",
     "output_type": "stream",
     "text": [
      "                                 id  affenpinscher  afghan_hound  \\\n",
      "0  000621fb3cbb32d8935728e48679680e       0.008333      0.008333   \n",
      "1  00102ee9d8eb90812350685311fe5890       0.008333      0.008333   \n",
      "2  0012a730dfa437f5f3613fb75efcd4ce       0.008333      0.008333   \n",
      "3  001510bc8570bbeee98c8d80c8a95ec1       0.008333      0.008333   \n",
      "4  001a5f3114548acdefa3d4da05474c2e       0.008333      0.008333   \n",
      "\n",
      "   african_hunting_dog  airedale  american_staffordshire_terrier  appenzeller  \\\n",
      "0             0.008333  0.008333                        0.008333     0.008333   \n",
      "1             0.008333  0.008333                        0.008333     0.008333   \n",
      "2             0.008333  0.008333                        0.008333     0.008333   \n",
      "3             0.008333  0.008333                        0.008333     0.008333   \n",
      "4             0.008333  0.008333                        0.008333     0.008333   \n",
      "\n",
      "   australian_terrier   basenji    basset        ...          toy_poodle  \\\n",
      "0            0.008333  0.008333  0.008333        ...            0.008333   \n",
      "1            0.008333  0.008333  0.008333        ...            0.008333   \n",
      "2            0.008333  0.008333  0.008333        ...            0.008333   \n",
      "3            0.008333  0.008333  0.008333        ...            0.008333   \n",
      "4            0.008333  0.008333  0.008333        ...            0.008333   \n",
      "\n",
      "   toy_terrier    vizsla  walker_hound  weimaraner  welsh_springer_spaniel  \\\n",
      "0     0.008333  0.008333      0.008333    0.008333                0.008333   \n",
      "1     0.008333  0.008333      0.008333    0.008333                0.008333   \n",
      "2     0.008333  0.008333      0.008333    0.008333                0.008333   \n",
      "3     0.008333  0.008333      0.008333    0.008333                0.008333   \n",
      "4     0.008333  0.008333      0.008333    0.008333                0.008333   \n",
      "\n",
      "   west_highland_white_terrier   whippet  wire-haired_fox_terrier  \\\n",
      "0                     0.008333  0.008333                 0.008333   \n",
      "1                     0.008333  0.008333                 0.008333   \n",
      "2                     0.008333  0.008333                 0.008333   \n",
      "3                     0.008333  0.008333                 0.008333   \n",
      "4                     0.008333  0.008333                 0.008333   \n",
      "\n",
      "   yorkshire_terrier  \n",
      "0           0.008333  \n",
      "1           0.008333  \n",
      "2           0.008333  \n",
      "3           0.008333  \n",
      "4           0.008333  \n",
      "\n",
      "[5 rows x 121 columns]\n",
      "0    000621fb3cbb32d8935728e48679680e\n",
      "1    00102ee9d8eb90812350685311fe5890\n",
      "2    0012a730dfa437f5f3613fb75efcd4ce\n",
      "3    001510bc8570bbeee98c8d80c8a95ec1\n",
      "4    001a5f3114548acdefa3d4da05474c2e\n",
      "Name: id, dtype: object\n"
     ]
    }
   ],
   "source": [
    "submission = pd.read_csv('C:\\\\Users\\\\Ujjawal\\\\Anaconda3\\\\input_files\\\\dog-breed-dataset\\\\file1\\\\sample_submission.csv')\n",
    "print(submission.head(5))\n",
    "test_img = submission['id']\n",
    "print (test_img.head(5)) #just for checking purpose\n"
   ]
  },
  {
   "cell_type": "code",
   "execution_count": 20,
   "metadata": {},
   "outputs": [
    {
     "name": "stderr",
     "output_type": "stream",
     "text": [
      "100%|████████████████████████████████████████████████████████████████████████████| 10357/10357 [03:22<00:00, 51.07it/s]\n"
     ]
    }
   ],
   "source": [
    "x_test_feature = []\n",
    "\n",
    "i = 0 # initialisation\n",
    "for f in tqdm(test_img.values): # f for format ,jpg\n",
    "    imgs = cv2.imread('C:\\\\Users\\\\Ujjawal\\\\Anaconda3\\\\input_files\\\\dog-breed-dataset\\\\test\\\\{}.jpg'.format(f), 0)\n",
    "    resized_img = cv2.resize(imgs, (img_rows, img_cols)) \n",
    "    x_test_feature.append(resized_img)\n",
    "      "
   ]
  },
  {
   "cell_type": "code",
   "execution_count": 12,
   "metadata": {},
   "outputs": [
    {
     "name": "stderr",
     "output_type": "stream",
     "text": [
      "Using TensorFlow backend.\n"
     ]
    }
   ],
   "source": [
    "#importing keras libray\n",
    "from keras.models import Sequential  # initial NN\n",
    "from keras.layers import Dense, Dropout # construct each layer\n",
    "from keras.layers import Convolution2D # swipe across the image by 1\n",
    "from keras.layers import MaxPooling2D # swipe across by pool size\n",
    "from keras.layers import Flatten"
   ]
  },
  {
   "cell_type": "code",
   "execution_count": 14,
   "metadata": {},
   "outputs": [],
   "source": [
    "#Buiding our CNN model\n",
    "model = Sequential()   #initializing the CNN\n",
    "\n",
    "#Adding first convolution layer\n",
    "model.add(Convolution2D (filters = 64, kernel_size = (3,3),padding = 'Same', \n",
    "                         activation ='relu', input_shape = (img_rows, img_cols, no_channels)))\n",
    "\n",
    "#Pooling process\n",
    "model.add(MaxPooling2D(pool_size=(2,2)))\n",
    "\n",
    "#Adding second convolution layer\n",
    "model.add(Convolution2D (filters = 64, kernel_size = (3,3),padding = 'Same', \n",
    "                         activation ='relu')) \n",
    "\n",
    "#Pooling process\n",
    "model.add(MaxPooling2D(pool_size=(2,2)))\n",
    "\n",
    "#Flattening process\n",
    "model.add(Flatten()) \n",
    "# full connection  \n",
    "model.add(Dense(units = 120, activation = 'relu')) \n",
    "# output layer\n",
    "model.add(Dense(units = 120, activation = 'softmax')) \n"
   ]
  },
  {
   "cell_type": "code",
   "execution_count": 15,
   "metadata": {},
   "outputs": [
    {
     "name": "stdout",
     "output_type": "stream",
     "text": [
      "_________________________________________________________________\n",
      "Layer (type)                 Output Shape              Param #   \n",
      "=================================================================\n",
      "conv2d_1 (Conv2D)            (None, 128, 128, 64)      640       \n",
      "_________________________________________________________________\n",
      "max_pooling2d_1 (MaxPooling2 (None, 64, 64, 64)        0         \n",
      "_________________________________________________________________\n",
      "conv2d_2 (Conv2D)            (None, 64, 64, 64)        36928     \n",
      "_________________________________________________________________\n",
      "max_pooling2d_2 (MaxPooling2 (None, 32, 32, 64)        0         \n",
      "_________________________________________________________________\n",
      "flatten_1 (Flatten)          (None, 65536)             0         \n",
      "_________________________________________________________________\n",
      "dense_1 (Dense)              (None, 120)               7864440   \n",
      "_________________________________________________________________\n",
      "dense_2 (Dense)              (None, 120)               14520     \n",
      "=================================================================\n",
      "Total params: 7,916,528\n",
      "Trainable params: 7,916,528\n",
      "Non-trainable params: 0\n",
      "_________________________________________________________________\n"
     ]
    }
   ],
   "source": [
    "#compiling our model\n",
    "model.compile(optimizer = 'adam' , loss = \"categorical_crossentropy\", metrics=[\"accuracy\"]) \n",
    "model.summary()"
   ]
  },
  {
   "cell_type": "code",
   "execution_count": 17,
   "metadata": {},
   "outputs": [
    {
     "name": "stdout",
     "output_type": "stream",
     "text": [
      "Train on 8177 samples, validate on 2045 samples\n",
      "Epoch 1/2\n",
      " - 390s - loss: 4.7873 - acc: 0.0110 - val_loss: 4.7865 - val_acc: 0.0078\n",
      "Epoch 2/2\n",
      " - 399s - loss: 4.6734 - acc: 0.0236 - val_loss: 4.6600 - val_acc: 0.0220\n"
     ]
    }
   ],
   "source": [
    "#Training our model\n",
    "batch_size = 128 \n",
    "nb_epochs = 2\n",
    "history = model.fit(x_train, y_train,\n",
    "                    batch_size=batch_size,\n",
    "                    epochs=nb_epochs,\n",
    "                    verbose=2, \n",
    "                    validation_data=(x_val, y_val),\n",
    "                    initial_epoch=0)"
   ]
  },
  {
   "cell_type": "code",
   "execution_count": 18,
   "metadata": {},
   "outputs": [
    {
     "data": {
      "image/png": "[encoded data removed]",
      "text/plain": [
       "<Figure size 432x288 with 2 Axes>"
      ]
     },
     "metadata": {},
     "output_type": "display_data"
    }
   ],
   "source": [
    "fig, ax = plt.subplots(2,1)\n",
    "ax[0].plot(history.history['loss'], color='b', label=\"Training loss\")\n",
    "ax[0].plot(history.history['val_loss'], color='r', label=\"validation loss\",axes =ax[0])\n",
    "legend = ax[0].legend(loc='best', shadow=True)\n",
    "\n",
    "ax[1].plot(history.history['acc'], color='b', label=\"Training accuracy\")\n",
    "ax[1].plot(history.history['val_acc'], color='r',label=\"Validation accuracy\")\n",
    "legend = ax[1].legend(loc='best', shadow=True)"
   ]
  },
  {
   "cell_type": "code",
   "execution_count": 21,
   "metadata": {},
   "outputs": [
    {
     "name": "stdout",
     "output_type": "stream",
     "text": [
      "(10357, 128, 128)\n",
      "(10357, 128, 128, 1)\n"
     ]
    }
   ],
   "source": [
    "x_test_data = np.array(x_test_feature, np.float32) / 255. # Normalization of test data\n",
    "print (x_test_data.shape)\n",
    "x_test_data = np.expand_dims(x_test_data, axis = 3)\n",
    "print (x_test_data.shape)\n"
   ]
  },
  {
   "cell_type": "code",
   "execution_count": 22,
   "metadata": {},
   "outputs": [],
   "source": [
    "#Testing our model on testing image data\n",
    "results = model.predict(x_test_data)\n",
    "prediction = pd.DataFrame(results)"
   ]
  },
  {
   "cell_type": "code",
   "execution_count": 39,
   "metadata": {},
   "outputs": [],
   "source": [
    "# Set column names to those generated by the one-hot encoding earlier\n",
    "col_names = encoded.columns.values\n",
    "prediction.columns = col_names\n",
    "\n",
    "# Insert the column id from the sample_submission at the start of the data frame\n",
    "prediction.insert(0, 'id', submission['id'])\n",
    "\n",
    "\n",
    "submission = prediction\n",
    "submission.to_csv('dog_breed_submission.csv', index=False)"
   ]
  },
  {
   "cell_type": "code",
   "execution_count": null,
   "metadata": {},
   "outputs": [],
   "source": []
  }
 ],
 "metadata": {
  "kernelspec": {
   "display_name": "Python 3",
   "language": "python",
   "name": "python3"
  },
  "language_info": {
   "codemirror_mode": {
    "name": "ipython",
    "version": 3
   },
   "file_extension": ".py",
   "mimetype": "text/x-python",
   "name": "python",
   "nbconvert_exporter": "python",
   "pygments_lexer": "ipython3",
   "version": "3.5.5"
  }
 },
 "nbformat": 4,
 "nbformat_minor": 2
}
